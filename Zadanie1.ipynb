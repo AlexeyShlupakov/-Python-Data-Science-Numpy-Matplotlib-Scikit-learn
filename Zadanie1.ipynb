{
 "cells": [
  {
   "cell_type": "code",
   "execution_count": 4,
   "id": "ec84e039",
   "metadata": {},
   "outputs": [],
   "source": [
    "import numpy as np"
   ]
  },
  {
   "cell_type": "code",
   "execution_count": 13,
   "id": "1a75980b",
   "metadata": {},
   "outputs": [],
   "source": [
    "a = np.array([[1, 6],\n",
    "              [2, 8],\n",
    "              [3, 11],\n",
    "              [3, 10],\n",
    "              [1, 7]])"
   ]
  },
  {
   "cell_type": "code",
   "execution_count": 14,
   "id": "f873fd9e",
   "metadata": {},
   "outputs": [
    {
     "name": "stdout",
     "output_type": "stream",
     "text": [
      "[[ 1  6]\n",
      " [ 2  8]\n",
      " [ 3 11]\n",
      " [ 3 10]\n",
      " [ 1  7]]\n"
     ]
    }
   ],
   "source": [
    "print(a)"
   ]
  },
  {
   "cell_type": "code",
   "execution_count": 16,
   "id": "56835ad1",
   "metadata": {},
   "outputs": [],
   "source": [
    "mean_a = a.mean(axis = 0)"
   ]
  },
  {
   "cell_type": "code",
   "execution_count": 17,
   "id": "4461f5be",
   "metadata": {},
   "outputs": [
    {
     "name": "stdout",
     "output_type": "stream",
     "text": [
      "[2.  8.4]\n"
     ]
    }
   ],
   "source": [
    "print(mean_a)"
   ]
  },
  {
   "cell_type": "markdown",
   "id": "66c1de6a",
   "metadata": {},
   "source": [
    "## Zadanie2"
   ]
  },
  {
   "cell_type": "code",
   "execution_count": 23,
   "id": "d20fcb50",
   "metadata": {},
   "outputs": [],
   "source": [
    "a_centered = a - mean_a"
   ]
  },
  {
   "cell_type": "code",
   "execution_count": 24,
   "id": "f1c88130",
   "metadata": {},
   "outputs": [
    {
     "name": "stdout",
     "output_type": "stream",
     "text": [
      "[[-1.  -2.4]\n",
      " [ 0.  -0.4]\n",
      " [ 1.   2.6]\n",
      " [ 1.   1.6]\n",
      " [-1.  -1.4]]\n"
     ]
    }
   ],
   "source": [
    "print(a_centered)"
   ]
  },
  {
   "cell_type": "markdown",
   "id": "5dbd69e0",
   "metadata": {},
   "source": [
    "# Zadanie3"
   ]
  },
  {
   "cell_type": "code",
   "execution_count": 25,
   "id": "e4548ce7",
   "metadata": {},
   "outputs": [],
   "source": [
    "a_centered_sp = a_centered.T[0] @ a_centered.T[1]"
   ]
  },
  {
   "cell_type": "code",
   "execution_count": 26,
   "id": "688c506a",
   "metadata": {},
   "outputs": [
    {
     "name": "stdout",
     "output_type": "stream",
     "text": [
      "8.0\n"
     ]
    }
   ],
   "source": [
    "print(a_centered_sp)"
   ]
  },
  {
   "cell_type": "code",
   "execution_count": 27,
   "id": "ccad8cfc",
   "metadata": {},
   "outputs": [
    {
     "data": {
      "text/plain": [
       "2.0"
      ]
     },
     "execution_count": 27,
     "metadata": {},
     "output_type": "execute_result"
    }
   ],
   "source": [
    "a_centered_sp / (a_centered.shape[0] - 1)"
   ]
  },
  {
   "cell_type": "code",
   "execution_count": null,
   "id": "6919ad0f",
   "metadata": {},
   "outputs": [],
   "source": []
  }
 ],
 "metadata": {
  "kernelspec": {
   "display_name": "Python 3 (ipykernel)",
   "language": "python",
   "name": "python3"
  },
  "language_info": {
   "codemirror_mode": {
    "name": "ipython",
    "version": 3
   },
   "file_extension": ".py",
   "mimetype": "text/x-python",
   "name": "python",
   "nbconvert_exporter": "python",
   "pygments_lexer": "ipython3",
   "version": "3.9.12"
  }
 },
 "nbformat": 4,
 "nbformat_minor": 5
}
